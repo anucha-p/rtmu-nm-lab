{
 "cells": [
  {
   "cell_type": "code",
   "execution_count": 1,
   "id": "a79dc3df",
   "metadata": {},
   "outputs": [
    {
     "ename": "ValueError",
     "evalue": "45 is not in list",
     "output_type": "error",
     "traceback": [
      "\u001b[0;31m---------------------------------------------------------------------------\u001b[0m",
      "\u001b[0;31mValueError\u001b[0m                                Traceback (most recent call last)",
      "Cell \u001b[0;32mIn[1], line 7\u001b[0m\n\u001b[1;32m      5\u001b[0m ang_idx \u001b[38;5;241m=\u001b[39m \u001b[38;5;28mrange\u001b[39m(\u001b[38;5;241m45\u001b[39m, \u001b[38;5;241m45\u001b[39m\u001b[38;5;241m+\u001b[39m\u001b[38;5;241m180\u001b[39m \u001b[38;5;241m/\u001b[39m\u001b[38;5;241m/\u001b[39m \u001b[38;5;241m360\u001b[39m, \u001b[38;5;28mint\u001b[39m(step))\n\u001b[1;32m      6\u001b[0m ang_idx \u001b[38;5;241m=\u001b[39m \u001b[38;5;28mlist\u001b[39m(ang_idx)\n\u001b[0;32m----> 7\u001b[0m select_ind \u001b[38;5;241m=\u001b[39m \u001b[43mang_idx\u001b[49m\u001b[38;5;241;43m.\u001b[39;49m\u001b[43mindex\u001b[49m\u001b[43m(\u001b[49m\u001b[38;5;241;43m45\u001b[39;49m\u001b[43m)\u001b[49m\n\u001b[1;32m      8\u001b[0m ang_idx \u001b[38;5;241m=\u001b[39m ang_idx[select_ind:] \u001b[38;5;241m+\u001b[39m ang_idx[:select_ind]\n\u001b[1;32m      9\u001b[0m \u001b[38;5;28mprint\u001b[39m(ang_idx)\n",
      "\u001b[0;31mValueError\u001b[0m: 45 is not in list"
     ]
    }
   ],
   "source": [
    "from numpy import array\n",
    "\n",
    "\n",
    "step = 6\n",
    "ang_idx = range(45, 45+180 // 360, int(step))\n",
    "ang_idx = list(ang_idx)\n",
    "select_ind = ang_idx.index(45)\n",
    "ang_idx = ang_idx[select_ind:] + ang_idx[:select_ind]\n",
    "print(ang_idx)\n",
    "print(len(ang_idx))\n",
    "a = array(ang_idx, dtype=int) // 3\n",
    "print(a)\n"
   ]
  },
  {
   "cell_type": "code",
   "execution_count": 21,
   "id": "6ffef3d2",
   "metadata": {},
   "outputs": [
    {
     "name": "stdout",
     "output_type": "stream",
     "text": [
      "[90, 93, 96, 99, 102, 105, 108, 111, 114, 117, 120, 123, 126, 129, 132, 135, 138, 141, 144, 147, 150, 153, 156, 159, 162, 165, 168, 171, 174, 177, 180, 183, 186, 189, 192, 195, 198, 201, 204, 207, 210, 213, 216, 219, 222, 225, 228, 231, 234, 237, 240, 243, 246, 249, 252, 255, 258, 261, 264, 267, 270, 273, 276, 279, 282, 285, 288, 291, 294, 297, 300, 303, 306, 309, 312, 315, 318, 321, 324, 327, 330, 333, 336, 339, 342, 345, 348, 351, 354, 357, 0, 3, 6, 9, 12, 15, 18, 21, 24, 27, 30, 33, 36, 39, 42, 45, 48, 51, 54, 57, 60, 63, 66, 69, 72, 75, 78, 81, 84, 87]\n",
      "120\n",
      "[0, 3, 6, 9, 12, 15, 18, 21, 24, 27, 30, 33, 36, 39, 42, 45, 48, 51, 54, 57, 60, 63, 66, 69, 72, 75, 78, 81, 84, 87, 90, 93, 96, 99, 102, 105, 108, 111, 114, 117, 120, 123, 126, 129, 132, 135, 138, 141, 144, 147, 150, 153, 156, 159, 162, 165, 168, 171, 174, 177, 180, 183, 186, 189, 192, 195, 198, 201, 204, 207, 210, 213, 216, 219, 222, 225, 228, 231, 234, 237, 240, 243, 246, 249, 252, 255, 258, 261, 264, 267, 270, 273, 276, 279, 282, 285, 288, 291, 294, 297, 300, 303, 306, 309, 312, 315, 318, 321, 324, 327, 330, 333, 336, 339, 342, 345, 348, 351, 354, 357]\n",
      "120\n"
     ]
    }
   ],
   "source": [
    "start = 90\n",
    "step = 3\n",
    "ang_range = 360\n",
    "wrapped_range = [(start + i) % 360 for i in range(0, ang_range, step)]\n",
    "# wrapped_range = [(90 + i) % 360 for i in range(0,360,3)]\n",
    "print(wrapped_range)\n",
    "print(len(wrapped_range))\n",
    "prj = range(0, 360, 3)\n",
    "prj = list(prj)\n",
    "print(prj)\n",
    "print(len(prj))"
   ]
  },
  {
   "cell_type": "code",
   "execution_count": 22,
   "id": "9c4dc30c",
   "metadata": {},
   "outputs": [
    {
     "name": "stdout",
     "output_type": "stream",
     "text": [
      "[30, 31, 32, 33, 34, 35, 36, 37, 38, 39, 40, 41, 42, 43, 44, 45, 46, 47, 48, 49, 50, 51, 52, 53, 54, 55, 56, 57, 58, 59, 60, 61, 62, 63, 64, 65, 66, 67, 68, 69, 70, 71, 72, 73, 74, 75, 76, 77, 78, 79, 80, 81, 82, 83, 84, 85, 86, 87, 88, 89, 90, 91, 92, 93, 94, 95, 96, 97, 98, 99, 100, 101, 102, 103, 104, 105, 106, 107, 108, 109, 110, 111, 112, 113, 114, 115, 116, 117, 118, 119, 0, 1, 2, 3, 4, 5, 6, 7, 8, 9, 10, 11, 12, 13, 14, 15, 16, 17, 18, 19, 20, 21, 22, 23, 24, 25, 26, 27, 28, 29]\n",
      "120\n"
     ]
    }
   ],
   "source": [
    "indices = [prj.index(value) for value in wrapped_range if value in prj]\n",
    "print(indices)\n",
    "print(len(indices))"
   ]
  },
  {
   "cell_type": "code",
   "execution_count": 19,
   "id": "6e44f0c2",
   "metadata": {},
   "outputs": [],
   "source": [
    "import numpy as np\n",
    "vol = np.zeros((120, 128, 128), dtype=int)"
   ]
  },
  {
   "cell_type": "code",
   "execution_count": 23,
   "id": "49ad5c74",
   "metadata": {},
   "outputs": [
    {
     "name": "stdout",
     "output_type": "stream",
     "text": [
      "(120, 128, 128)\n"
     ]
    }
   ],
   "source": [
    "new_vol = np.zeros((120, 128, 128), dtype=int)\n",
    "for i in range(len(indices)):\n",
    "    new_vol[i, :, :] = vol[indices[i], :, :]\n",
    "print(new_vol.shape)"
   ]
  },
  {
   "cell_type": "code",
   "execution_count": 35,
   "id": "48d5f087",
   "metadata": {},
   "outputs": [
    {
     "name": "stdout",
     "output_type": "stream",
     "text": [
      "[30, 31, 32, 33, 34, 35, 36, 37, 38, 39, 40, 41, 42, 43, 44, 45, 46, 47, 48, 49, 50, 51, 52, 53, 54, 55, 56, 57, 58, 59, 15, 16, 17, 18, 19, 20, 21, 22, 23, 24, 25, 26, 27, 28, 29]\n"
     ]
    }
   ],
   "source": [
    "prj = range(0, 120, int(3/3))\n",
    "prj = list(prj)  # Convert range to list\n",
    "print([prj[i] for i in a])  # Use list comprehension to index with array `a`\n",
    "# # ind = prj[ang_idx]\n",
    "# print(prj)\n",
    "# print(len(prj))"
   ]
  },
  {
   "cell_type": "code",
   "execution_count": null,
   "id": "f962d303",
   "metadata": {},
   "outputs": [
    {
     "name": "stdout",
     "output_type": "stream",
     "text": [
      "[60, 66, 72, 78, 84, 90, 96, 102, 108, 114, 0, 6, 12, 18, 24, 30, 36, 42, 48, 54, 60, 66, 72, 78, 84, 90, 96, 102, 108, 114, 0, 6, 12, 18, 24, 30, 36, 42, 48, 54, 60, 66, 72, 78, 84, 90, 96, 102, 108, 114, 0, 6, 12, 18, 24, 30, 36, 42, 48, 54, 60, 66, 72, 78, 84, 90, 96, 102, 108, 114, 0, 6, 12, 18, 24, 30, 36, 42, 48, 54, 60, 66, 72, 78, 84, 90, 96, 102, 108, 114, 0, 6, 12, 18, 24, 30, 36, 42, 48, 54, 60, 66, 72, 78, 84, 90, 96, 102, 108, 114, 0, 6, 12, 18, 24, 30, 36, 42, 48, 54]\n",
      "120\n"
     ]
    }
   ],
   "source": [
    "selected_prj = [prj[i % len(prj)] for i in prj]\n",
    "print(selected_prj)\n",
    "print(len(selected_prj))"
   ]
  }
 ],
 "metadata": {
  "kernelspec": {
   "display_name": "Python 3",
   "language": "python",
   "name": "python3"
  },
  "language_info": {
   "codemirror_mode": {
    "name": "ipython",
    "version": 3
   },
   "file_extension": ".py",
   "mimetype": "text/x-python",
   "name": "python",
   "nbconvert_exporter": "python",
   "pygments_lexer": "ipython3",
   "version": "3.10.12"
  }
 },
 "nbformat": 4,
 "nbformat_minor": 5
}
